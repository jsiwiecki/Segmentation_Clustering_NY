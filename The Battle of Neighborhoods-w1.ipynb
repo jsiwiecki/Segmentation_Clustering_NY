{
 "cells": [
  {
   "cell_type": "markdown",
   "metadata": {},
   "source": [
    "# Business Problem"
   ]
  },
  {
   "cell_type": "markdown",
   "metadata": {},
   "source": [
    "In busy world potential customer in a restaurant wants a quick and available food. In this field - food industry, there's a lot of competitors, a specially in such city like New York. You can find all kinds of cuisine - Asian food, Italian food, Indian food etc. Placing a new place, a new restaurant in such crowdy place can be a challenge.\n",
    "\n",
    "Such a place needs to be planned in a way to lower the risk of a failure and increase chancec on the market."
   ]
  },
  {
   "cell_type": "markdown",
   "metadata": {},
   "source": [
    "## Data"
   ]
  },
  {
   "cell_type": "markdown",
   "metadata": {},
   "source": [
    "<li>We're going to use Foursquare API Data with geographical coordinates. <li>We're going to focus on NY.\n",
    "<li>We're going to analyse data (descriptive statistics & clusters) to search for the smallest number of restaurants in the neighborhoods to decide where is (probably) best place to open a new one. "
   ]
  },
  {
   "cell_type": "code",
   "execution_count": null,
   "metadata": {},
   "outputs": [],
   "source": []
  }
 ],
 "metadata": {
  "kernelspec": {
   "display_name": "Python 3",
   "language": "python",
   "name": "python3"
  },
  "language_info": {
   "codemirror_mode": {
    "name": "ipython",
    "version": 3
   },
   "file_extension": ".py",
   "mimetype": "text/x-python",
   "name": "python",
   "nbconvert_exporter": "python",
   "pygments_lexer": "ipython3",
   "version": "3.7.3"
  }
 },
 "nbformat": 4,
 "nbformat_minor": 4
}
